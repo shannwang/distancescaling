{
 "cells": [
  {
   "cell_type": "markdown",
   "id": "708e32fd",
   "metadata": {},
   "source": [
    "## Extract coordinates of motorway networks from osm files\n",
    "\n",
    "author: shanshan wang\\\n",
    "email: shanshan.wang@uni-due.de\\\n",
    "Feb. 29, 2024"
   ]
  },
  {
   "cell_type": "code",
   "execution_count": null,
   "id": "a0f57df4",
   "metadata": {},
   "outputs": [],
   "source": [
    "import matplotlib\n",
    "import matplotlib.pyplot as plt\n",
    "import pandas as pd\n",
    "import osmnx as ox\n",
    "import csv\n",
    "from IPython.display import clear_output"
   ]
  },
  {
   "cell_type": "markdown",
   "id": "0982b7bf",
   "metadata": {},
   "source": [
    "### osm file list \n",
    "us_filter_by_motorway.osm\\\n",
    "china_filter_by_motorway.osm\\\n",
    "germany_filter_by_motorway.osm\\\n",
    "france_filter_by_motorway.osm\\\n",
    "spain_filter_by_motorway.osm\\\n",
    "great-britain_filter_by_motorway.osm\\\n",
    "ontario_filter_by_motorway.osm\\\n",
    "california_filter_by_motorway.osm\\\n",
    "nordrhein-westfalen_filter_by_motorway.osm\\\n",
    "baden-wuerttemberg_filter_by_motorway.osm\\\n",
    "bayern_filter_by_motorway.osm\\\n",
    "berlin_filter_by_motorway.osm\\\n",
    "brandenburg_filter_by_motorway.osm\\\n",
    "bremen_filter_by_motorway.osm\\\n",
    "hamburg_filter_by_motorway.osm\\\n",
    "hessen_filter_by_motorway.osm\\\n",
    "mecklenburg-vorpommern_filter_by_motorway.osm\\\n",
    "niedersachsen_filter_by_motorway.osm\\\n",
    "rheinland-pfalz_filter_by_motorway.osm\\\n",
    "saarland_filter_by_motorway.osm\\\n",
    "sachsen-anhalt_filter_by_motorway.osm\\\n",
    "sachsen_filter_by_motorway.osm\\\n",
    "schleswig-holstein_filter_by_motorway.osm\\\n",
    "thueringen_filter_by_motorway.osm\n"
   ]
  },
  {
   "cell_type": "code",
   "execution_count": null,
   "id": "15db27f2",
   "metadata": {},
   "outputs": [],
   "source": [
    "dir1='data/'\n",
    "file='us'\n",
    "G=ox.graph.graph_from_xml(dir1+file+'_filter_by_motorway.osm', \n",
    "                             bidirectional=True, simplify=False, retain_all=True)"
   ]
  },
  {
   "cell_type": "code",
   "execution_count": null,
   "id": "26d16d44",
   "metadata": {},
   "outputs": [],
   "source": [
    "ox.plot_graph(G, ax=None, figsize=(8, 8), bgcolor='w', node_color='r',  \n",
    "              save=False, filepath=\"map.png\", \n",
    "              node_size=0, dpi=100, bbox=None)\n",
    "plt.savefig('map.png',dpi=300, transparent=True, format='png', bbox_inches='tight')\n",
    "plt.ioff()\n",
    "plt.close()"
   ]
  },
  {
   "cell_type": "code",
   "execution_count": null,
   "id": "4a743cba",
   "metadata": {},
   "outputs": [],
   "source": [
    "edges = ox.graph_to_gdfs(G, nodes=False, edges=True)\n",
    "edges.head()"
   ]
  },
  {
   "cell_type": "code",
   "execution_count": null,
   "id": "3ecda71d",
   "metadata": {},
   "outputs": [],
   "source": [
    "# y: latitude, x:longitude\n",
    "nodes = ox.graph_to_gdfs(G, nodes=True, edges=False)\n",
    "nodes.head()"
   ]
  },
  {
   "cell_type": "code",
   "execution_count": null,
   "id": "ca16c6e6",
   "metadata": {},
   "outputs": [],
   "source": [
    "path='results/'\n",
    "nodes[['y','x']].to_csv(path+file+'_motorway.csv',index=False,header=['lat','lon'],sep=',')"
   ]
  }
 ],
 "metadata": {
  "kernelspec": {
   "display_name": "Python 3",
   "language": "python",
   "name": "python3"
  },
  "language_info": {
   "codemirror_mode": {
    "name": "ipython",
    "version": 3
   },
   "file_extension": ".py",
   "mimetype": "text/x-python",
   "name": "python",
   "nbconvert_exporter": "python",
   "pygments_lexer": "ipython3",
   "version": "3.8.8"
  }
 },
 "nbformat": 4,
 "nbformat_minor": 5
}
